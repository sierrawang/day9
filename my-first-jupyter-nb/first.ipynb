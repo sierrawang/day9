{
 "cells": [
  {
   "cell_type": "markdown",
   "id": "e772232c",
   "metadata": {},
   "source": [
    "# My first Jupyter Notebook\n",
    "**In this notebook, you will fill out a few cells to complete the given tasks.**\n",
    "Refer back to the example.ipynb notebook in the `notebook-ex` folder for guidance."
   ]
  },
  {
   "cell_type": "markdown",
   "id": "3ce78e7b",
   "metadata": {},
   "source": [
    "#### Task 1: Loop through numbers 1 to 10 and print each number"
   ]
  },
  {
   "cell_type": "code",
   "execution_count": null,
   "id": "1bec90c4",
   "metadata": {},
   "outputs": [],
   "source": [
    "# Task 1 is a warmup task. You can do it here."
   ]
  },
  {
   "cell_type": "markdown",
   "id": "2f199d7a",
   "metadata": {},
   "source": [
    "#### Task 2: import pandas and matplotlib.pyplot (as plt)"
   ]
  },
  {
   "cell_type": "code",
   "execution_count": null,
   "id": "4f0ac17b",
   "metadata": {},
   "outputs": [],
   "source": [
    "# Task 2: You can write your code here."
   ]
  },
  {
   "cell_type": "markdown",
   "id": "7a18fb64",
   "metadata": {},
   "source": [
    "#### Task 3: Load `cfh_work.csv` in as a pandas dataframe, and display the first 3 rows"
   ]
  },
  {
   "cell_type": "code",
   "execution_count": null,
   "id": "f5b7d484",
   "metadata": {},
   "outputs": [],
   "source": [
    "# You can write your Task 3 code here"
   ]
  },
  {
   "cell_type": "markdown",
   "id": "e46af0b4",
   "metadata": {},
   "source": [
    "#### Task 4: Create a function that takes in x_axis data, y_axis data, an x axis label, a y axis label and plots the data using `plt.plot()`"
   ]
  },
  {
   "cell_type": "code",
   "execution_count": null,
   "id": "0926a3ed",
   "metadata": {},
   "outputs": [],
   "source": [
    "def plot_data(x_axis, y_axis, x_label, y_label):\n",
    "    # TODO: Implement the function to plot data\n",
    "    pass"
   ]
  },
  {
   "cell_type": "markdown",
   "id": "c7501aa0",
   "metadata": {},
   "source": [
    "#### Task 5: Call your function, once for each of the following pairs of columns:\n",
    "- `Day Number` and `Assignment Count`\n",
    "- `Day Number` and `Lesson Count`\n",
    "- `Day Number` and `Handout Count`"
   ]
  },
  {
   "cell_type": "code",
   "execution_count": null,
   "id": "bef79790",
   "metadata": {},
   "outputs": [],
   "source": [
    "# You can run your code here"
   ]
  }
 ],
 "metadata": {
  "kernelspec": {
   "display_name": "cfh",
   "language": "python",
   "name": "python3"
  },
  "language_info": {
   "name": "python",
   "version": "3.11.13"
  }
 },
 "nbformat": 4,
 "nbformat_minor": 5
}
