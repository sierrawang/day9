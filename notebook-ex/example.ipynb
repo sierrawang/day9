{
 "cells": [
  {
   "cell_type": "markdown",
   "id": "93f05092",
   "metadata": {},
   "source": [
    "# This is a Jupyter Notebook"
   ]
  },
  {
   "cell_type": "markdown",
   "id": "7ef7c021",
   "metadata": {},
   "source": [
    "Jupyter notebooks provide an interactive environment where you can write code, notes, and create visualizations without needing to switch between files. They also have helpful features, which I will get to later."
   ]
  },
  {
   "cell_type": "markdown",
   "id": "dac3e7ee",
   "metadata": {},
   "source": [
    "Below is a code cell. These are text-boxes that allow you to write and run python code. You can create one by clicking the `+ Code` in the top left corner of the notebook. <img src=\"images/codebutton.png\" alt=\"Diagram\" height=\"300\"> <img src=\"images/select-conda.png\" alt=\"Diagram\" height=\"300\">\n",
    "Before you run your code, you need to select the correct kernel. The kernel is the environment where your code will run. A conda environment is a kernel, so you can select the conda environment you created earlier. You can do this by clicking on the `Kernel` menu at the top of the notebook and selecting `Change kernel`. Then, select the conda environment you created earlier."
   ]
  },
  {
   "cell_type": "code",
   "execution_count": null,
   "id": "b0b05e63",
   "metadata": {},
   "outputs": [
    {
     "name": "stdout",
     "output_type": "stream",
     "text": [
      "Hello from Jupyter Notebook 0\n",
      "Hello from Jupyter Notebook 1\n",
      "Hello from Jupyter Notebook 2\n",
      "Hello from Jupyter Notebook 3\n",
      "Hello from Jupyter Notebook 4\n",
      "Hello from Jupyter Notebook 5\n",
      "Hello from Jupyter Notebook 6\n",
      "Hello from Jupyter Notebook 7\n",
      "Hello from Jupyter Notebook 8\n",
      "Hello from Jupyter Notebook 9\n"
     ]
    }
   ],
   "source": [
    "# This is a code cell\n",
    "# Click the triangle on the left (The run button) or press Shift + Enter to run the code:\n",
    "for i in range(10):\n",
    "    print(f\"Hello from Jupyter Notebook {i}\")"
   ]
  },
  {
   "cell_type": "markdown",
   "id": "3fad49c7",
   "metadata": {},
   "source": [
    "After you run the cell above, you should see the output below the cell."
   ]
  },
  {
   "cell_type": "markdown",
   "id": "b35acf99",
   "metadata": {},
   "source": [
    "These stray lines of text are called \"markdown cells\". They allow you to write notes, explanations, and other text in your notebook. Markdown is a lightweight markup language that allows you to format text easily.\n",
    "You can do things like:\n",
    "# Make headers\n",
    "* make \n",
    "* bulleted lists\n",
    "1. make\n",
    "2. numbered lists\n",
    "**make text bold**\n",
    "*make text italic*\n",
    "[Make links](https://www.google.com)\n",
    "and more!\n",
    "Double click on this text to view the markdown source code."
   ]
  },
  {
   "cell_type": "markdown",
   "id": "f051a40b",
   "metadata": {},
   "source": [
    "## Ok, let's get back to coding!"
   ]
  },
  {
   "cell_type": "code",
   "execution_count": 32,
   "id": "3173cb15",
   "metadata": {},
   "outputs": [],
   "source": [
    "# One cool thing about Jupyter notebooks is that memory is shared over the entire notebook\n",
    "# If I define some_variable here\n",
    "some_variable = \"Hello!\" # some_variable is a bob\n",
    "\n",
    "# I can also create a function here\n",
    "def fun_function():\n",
    "    print(\"This is fun\")"
   ]
  },
  {
   "cell_type": "code",
   "execution_count": 33,
   "id": "0a7d6cfc",
   "metadata": {},
   "outputs": [
    {
     "name": "stdout",
     "output_type": "stream",
     "text": [
      "Hello!\n",
      "This is fun\n"
     ]
    }
   ],
   "source": [
    "# I can then print it out in the next cell\n",
    "print(some_variable)\n",
    "\n",
    "# and call the function\n",
    "fun_function()\n",
    "\n",
    "# Try changing the value of some_variable a few times and running both cells!"
   ]
  },
  {
   "cell_type": "markdown",
   "id": "f3b7b0d0",
   "metadata": {},
   "source": [
    "Even if there is text between the code cells, the memory is still shared. As long as you have run the code that defines a variable or function, you can use it in any cell below it."
   ]
  },
  {
   "cell_type": "code",
   "execution_count": 8,
   "id": "a63e2eb1",
   "metadata": {},
   "outputs": [
    {
     "name": "stdout",
     "output_type": "stream",
     "text": [
      "Hello! again\n"
     ]
    }
   ],
   "source": [
    "print(f\"{some_variable} again\")"
   ]
  },
  {
   "cell_type": "markdown",
   "id": "82272a62",
   "metadata": {},
   "source": [
    "If you don't define the variable, you will get an error"
   ]
  },
  {
   "cell_type": "code",
   "execution_count": 34,
   "id": "b73388df",
   "metadata": {},
   "outputs": [
    {
     "ename": "NameError",
     "evalue": "name 'this_variable_is_not_defined' is not defined",
     "output_type": "error",
     "traceback": [
      "\u001b[31m---------------------------------------------------------------------------\u001b[39m",
      "\u001b[31mNameError\u001b[39m                                 Traceback (most recent call last)",
      "\u001b[36mCell\u001b[39m\u001b[36m \u001b[39m\u001b[32mIn[34]\u001b[39m\u001b[32m, line 1\u001b[39m\n\u001b[32m----> \u001b[39m\u001b[32m1\u001b[39m \u001b[38;5;28mprint\u001b[39m(\u001b[43mthis_variable_is_not_defined\u001b[49m)\n",
      "\u001b[31mNameError\u001b[39m: name 'this_variable_is_not_defined' is not defined"
     ]
    }
   ],
   "source": [
    "print(this_variable_is_not_defined)"
   ]
  },
  {
   "cell_type": "markdown",
   "id": "b4b62554",
   "metadata": {},
   "source": [
    "This does mean that there often isn't a typical \"main\" function in a Jupyter notebook. Instead, you can run code in any order, and the variables will be available to all cells.\n",
    "\n",
    "One tricky thing is that the order that you run the cells matters. If you run a cell that uses a variable that hasn't been defined yet, you'll get an error. So, make sure to run the cells in the order they are presented.\n",
    "\n",
    "Run the 3 code cells below in different orders to see how the output changes."
   ]
  },
  {
   "cell_type": "code",
   "execution_count": null,
   "id": "719bf945",
   "metadata": {},
   "outputs": [],
   "source": [
    "# Code cell 1\n",
    "some_variable = \"hello\""
   ]
  },
  {
   "cell_type": "code",
   "execution_count": null,
   "id": "a5c42a87",
   "metadata": {},
   "outputs": [],
   "source": [
    "# Code cell 2\n",
    "some_variable = \"goodbye\""
   ]
  },
  {
   "cell_type": "code",
   "execution_count": null,
   "id": "d5a1e3b4",
   "metadata": {},
   "outputs": [
    {
     "name": "stdout",
     "output_type": "stream",
     "text": [
      "hello\n"
     ]
    }
   ],
   "source": [
    "# Code cell 3\n",
    "print(some_variable)"
   ]
  },
  {
   "cell_type": "markdown",
   "id": "7f4c4d31",
   "metadata": {},
   "source": [
    "# Libraries\n",
    "Jupyter notebooks were built to work with Python numbers like `numpy`, `pandas`, and `matplotlib`."
   ]
  },
  {
   "cell_type": "code",
   "execution_count": 14,
   "id": "7de5ac6e",
   "metadata": {},
   "outputs": [],
   "source": [
    "# import the libraries like normal\n",
    "import pandas as pd\n",
    "import matplotlib.pyplot as plt"
   ]
  },
  {
   "cell_type": "code",
   "execution_count": 23,
   "id": "b168db60",
   "metadata": {},
   "outputs": [
    {
     "data": {
      "text/html": [
       "<div>\n",
       "<style scoped>\n",
       "    .dataframe tbody tr th:only-of-type {\n",
       "        vertical-align: middle;\n",
       "    }\n",
       "\n",
       "    .dataframe tbody tr th {\n",
       "        vertical-align: top;\n",
       "    }\n",
       "\n",
       "    .dataframe thead th {\n",
       "        text-align: right;\n",
       "    }\n",
       "</style>\n",
       "<table border=\"1\" class=\"dataframe\">\n",
       "  <thead>\n",
       "    <tr style=\"text-align: right;\">\n",
       "      <th></th>\n",
       "      <th>school</th>\n",
       "      <th>grad_students</th>\n",
       "      <th>faculty</th>\n",
       "    </tr>\n",
       "  </thead>\n",
       "  <tbody>\n",
       "    <tr>\n",
       "      <th>0</th>\n",
       "      <td>Graduate School of Business</td>\n",
       "      <td>0.11</td>\n",
       "      <td>5%</td>\n",
       "    </tr>\n",
       "    <tr>\n",
       "      <th>1</th>\n",
       "      <td>Doerr School of Sustainability</td>\n",
       "      <td>0.04</td>\n",
       "      <td>3%</td>\n",
       "    </tr>\n",
       "    <tr>\n",
       "      <th>2</th>\n",
       "      <td>Graduate School of Education</td>\n",
       "      <td>0.03</td>\n",
       "      <td>3%</td>\n",
       "    </tr>\n",
       "    <tr>\n",
       "      <th>3</th>\n",
       "      <td>School of Engineering</td>\n",
       "      <td>0.39</td>\n",
       "      <td>12%</td>\n",
       "    </tr>\n",
       "    <tr>\n",
       "      <th>4</th>\n",
       "      <td>School of Humanities and Sciences</td>\n",
       "      <td>0.24</td>\n",
       "      <td>24%</td>\n",
       "    </tr>\n",
       "  </tbody>\n",
       "</table>\n",
       "</div>"
      ],
      "text/plain": [
       "                              school  grad_students faculty\n",
       "0        Graduate School of Business           0.11      5%\n",
       "1     Doerr School of Sustainability           0.04      3%\n",
       "2       Graduate School of Education           0.03      3%\n",
       "3              School of Engineering           0.39     12%\n",
       "4  School of Humanities and Sciences           0.24     24%"
      ]
     },
     "execution_count": 23,
     "metadata": {},
     "output_type": "execute_result"
    }
   ],
   "source": [
    "df = pd.read_csv(\"./data/stanford.csv\")\n",
    "# Look how nicely formatted the result is\n",
    "df.head()\n",
    "# I didn't even have to print it!"
   ]
  },
  {
   "cell_type": "code",
   "execution_count": 28,
   "id": "f0b64dfd",
   "metadata": {},
   "outputs": [
    {
     "data": {
      "text/plain": [
       "([0, 1, 2, 3, 4, 5, 6, 7],\n",
       " [Text(0, 0, 'Graduate School of Business'),\n",
       "  Text(1, 0, 'Doerr School of Sustainability'),\n",
       "  Text(2, 0, 'Graduate School of Education'),\n",
       "  Text(3, 0, 'School of Engineering'),\n",
       "  Text(4, 0, 'School of Humanities and Sciences'),\n",
       "  Text(5, 0, 'Law School'),\n",
       "  Text(6, 0, 'School of Medicine'),\n",
       "  Text(7, 0, 'SLAC, FSI, other')])"
      ]
     },
     "execution_count": 28,
     "metadata": {},
     "output_type": "execute_result"
    },
    {
     "data": {
      "image/png": "[encoded data removed]",
      "text/plain": [
       "<Figure size 640x480 with 1 Axes>"
      ]
     },
     "metadata": {},
     "output_type": "display_data"
    }
   ],
   "source": [
    "plt.bar(df[\"school\"], df[\"grad_students\"])\n",
    "plt.xticks(rotation=80)\n",
    "# Look how nicely this graph shows up!!!"
   ]
  },
  {
   "cell_type": "code",
   "execution_count": null,
   "id": "c5aede0b",
   "metadata": {},
   "outputs": [],
   "source": []
  }
 ],
 "metadata": {
  "kernelspec": {
   "display_name": "cfh",
   "language": "python",
   "name": "python3"
  },
  "language_info": {
   "codemirror_mode": {
    "name": "ipython",
    "version": 3
   },
   "file_extension": ".py",
   "mimetype": "text/x-python",
   "name": "python",
   "nbconvert_exporter": "python",
   "pygments_lexer": "ipython3",
   "version": "3.11.13"
  }
 },
 "nbformat": 4,
 "nbformat_minor": 5
}
