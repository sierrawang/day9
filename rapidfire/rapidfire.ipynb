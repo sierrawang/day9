{
 "cells": [
  {
   "cell_type": "markdown",
   "id": "0f0fdf70",
   "metadata": {},
   "source": [
    "# Rapidfire\n",
    "In this section, you will complete several rapidfire excersizes to practice the several individual Python skills you have just learned."
   ]
  },
  {
   "cell_type": "markdown",
   "id": "e4a2919c",
   "metadata": {},
   "source": [
    "#### Task 1: Slooooww Countdown\n",
    "Write a for loop that counts from 10 to 1, but pauses for that amount of time in seconds before printing each number (i.e. 10 seconds before printing 10, 9 seconds before printing 9, etc.). Use the `time` module to pause the program."
   ]
  },
  {
   "cell_type": "code",
   "execution_count": null,
   "id": "d9d953a3",
   "metadata": {},
   "outputs": [],
   "source": [
    "# Step 1: Import time below"
   ]
  },
  {
   "cell_type": "code",
   "execution_count": null,
   "id": "79765163",
   "metadata": {},
   "outputs": [],
   "source": [
    "# Step 2: Right the countdown code below"
   ]
  },
  {
   "cell_type": "markdown",
   "id": "b9d17085",
   "metadata": {},
   "source": [
    "#### Task 2: Benchmarking\n",
    "Test your computers speed by timing how long it takes to run a for loop that loops through 1, 10, 100, 1000, and 10,000 iterations. Use the `time.time()` function to measure the time it takes to run each loop, then, add each time to a list, and plot it using `plt.plot()` from matplotlib.\n",
    "\n",
    "In side the loop, you should print what number iteration you are on.\n",
    "In otherwords, your benchmark loop should look like this:\n",
    "\n",
    "```python\n",
    "for i in range(1, benchmark size):\n",
    "    print(i)\n",
    "```"
   ]
  },
  {
   "cell_type": "code",
   "execution_count": null,
   "id": "ee521b32",
   "metadata": {},
   "outputs": [],
   "source": [
    "# Run the benchmarks and gather your data here"
   ]
  },
  {
   "cell_type": "code",
   "execution_count": null,
   "id": "f35d0ce3",
   "metadata": {},
   "outputs": [],
   "source": [
    "# Write the code to generate the graph here\n",
    "\n",
    "# Note, you can use the function \"plt.xscale('log')\" to set the x-axis to a logarithmic scale"
   ]
  },
  {
   "cell_type": "markdown",
   "id": "1fc0f6db",
   "metadata": {},
   "source": [
    "#### Task 3: Lambda Mania\n",
    "Fill in the following lambda functions below, based on their descriptions, then run the next cell to test them."
   ]
  },
  {
   "cell_type": "code",
   "execution_count": null,
   "id": "3669af3e",
   "metadata": {},
   "outputs": [],
   "source": [
    "# This lambda should take in two numbers, then return the sum of those two numbers\n",
    "add_2_nums = # Write your lambda function here\n",
    "\n",
    "# This lambda should return the concatenation of the 3rd and 5th characters of a string (you can assume the string is at least 5 characters long). It takes in a string as an parameter.\n",
    "concat_3rd_5th = # Write your lambda function here\n",
    "\n",
    "# This lambda should take in two boolean values, a and b, and return True if a is True and b is False, or if a is False and b is True. Otherwise, it should return False.\n",
    "xor = # Write your lambda function here\n",
    "\n",
    "# This lambda should take in no parameters and sleep for exactly 1 second\n",
    "sleep_1 = # Write your lambda function here\n"
   ]
  },
  {
   "cell_type": "code",
   "execution_count": null,
   "id": "e77d77fd",
   "metadata": {},
   "outputs": [],
   "source": [
    "# Don't modify the code below, but run the cell to test your lambdas\n",
    "print(\"Testing your lambdas...\")\n",
    "sum1 = add_2_nums(3, 5)\n",
    "sum2 = add_2_nums(10, 20)\n",
    "if sum1 == 8 and sum2 == 30:\n",
    "    print(\"add_2_nums works!\")\n",
    "else:\n",
    "    print(\"add_2_nums does not work!\")\n",
    "\n",
    "c1 = concat_3rd_5th(\"abcdefg\")\n",
    "c2 = concat_3rd_5th(\"1234567890\")\n",
    "if c1 == \"ce\" and c2 == \"35\":\n",
    "    print(\"concat_3rd_5th works!\")\n",
    "else:\n",
    "    print(\"concat_3rd_5th does not work!\")\n",
    "\n",
    "xor1 = xor(True, False)\n",
    "xor2 = xor(False, True)\n",
    "xor3 = xor(True, True)\n",
    "xor4 = xor(False, False)\n",
    "if xor1 and xor2 and not xor3 and not xor4:\n",
    "    print(\"xor works!\")\n",
    "else:\n",
    "    print(\"xor does not work!\")\n",
    "\n",
    "import time\n",
    "t1 = time.time()\n",
    "sleep_1()\n",
    "t2 = time.time()\n",
    "if round(t2 - t1, 1) == 1:\n",
    "    print(\"sleep_1 works!\")\n",
    "else:\n",
    "    print(\"sleep_1 does not work!\")\n",
    "\n",
    "print(\"All tests complete!\")\n"
   ]
  },
  {
   "cell_type": "markdown",
   "id": "97d57724",
   "metadata": {},
   "source": [
    "#### Task 4: Plot the ISS\n",
    "In this task, you will read in a list of files from `./data`, then loop through them to construct a plot of the ISS longitude and latitude over a 100 second period. Each file in the `./data` directory contains a json object with the following structure:\n",
    "```json\n",
    "{\n",
    "    \"name\": \"iss\",\n",
    "    \"id\": 25544,\n",
    "    \"latitude\": 5.3369857993885,\n",
    "    \"longitude\": -61.338378345735,\n",
    "    \"altitude\": 416.346727087,\n",
    "    \"velocity\": 27586.208718256,\n",
    "    \"visibility\": \"eclipsed\",\n",
    "    \"footprint\": 4488.8303512777,\n",
    "    \"timestamp\": 1750313905,\n",
    "    \"daynum\": 2460845.7627894,\n",
    "    \"solar_lat\": 23.426771929216,\n",
    "    \"solar_lon\": 85.742971299456,\n",
    "    \"units\": \"kilometers\"\n",
    "}\n",
    "```\n",
    "(like the API you have seen before).\n",
    "Use the `os` module and the `os.listdir()` function get the list of files, then use the `json` module to read in each file. Use `plt.plot()` to plot the latitude and longitude of the ISS over time."
   ]
  },
  {
   "cell_type": "code",
   "execution_count": null,
   "id": "6a3fe720",
   "metadata": {},
   "outputs": [],
   "source": [
    "# Write your code to construct your data lists here"
   ]
  },
  {
   "cell_type": "code",
   "execution_count": null,
   "id": "7fc5cf80",
   "metadata": {},
   "outputs": [],
   "source": [
    "# Then write your code to plot the data here"
   ]
  }
 ],
 "metadata": {
  "kernelspec": {
   "display_name": "cfh",
   "language": "python",
   "name": "python3"
  },
  "language_info": {
   "name": "python",
   "version": "3.11.13"
  }
 },
 "nbformat": 4,
 "nbformat_minor": 5
}
